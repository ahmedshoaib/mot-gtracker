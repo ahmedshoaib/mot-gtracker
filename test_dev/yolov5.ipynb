{
 "cells": [
  {
   "cell_type": "code",
   "execution_count": 1,
   "metadata": {},
   "outputs": [
    {
     "name": "stdout",
     "output_type": "stream",
     "text": [
      "The current device is cuda:0\n"
     ]
    }
   ],
   "source": [
    "import torch\n",
    "device = torch.device(\"cuda:0\" if torch.cuda.is_available() else \"cpu\")\n",
    "print(f\"The current device is {device}\")"
   ]
  },
  {
   "cell_type": "code",
   "execution_count": 2,
   "metadata": {},
   "outputs": [
    {
     "name": "stderr",
     "output_type": "stream",
     "text": [
      "Using cache found in /home/students/sxa1507/.cache/torch/hub/ultralytics_yolov5_master\n",
      "YOLOv5 🚀 2022-7-9 Python-3.6.12 torch-1.10.1+cu102 CUDA:0 (GeForce RTX 2060, 5935MiB)\n",
      "\n"
     ]
    },
    {
     "name": "stdout",
     "output_type": "stream",
     "text": [
      "Python 3.7.0 required by YOLOv5, but Python 3.6.12 is currently installed\n"
     ]
    },
    {
     "name": "stderr",
     "output_type": "stream",
     "text": [
      "Fusing layers... \n",
      "YOLOv5s summary: 213 layers, 7225885 parameters, 0 gradients\n",
      "Adding AutoShape... \n",
      "Saved 1 image to \u001b[1mruns/detect/exp2\u001b[0m\n"
     ]
    },
    {
     "name": "stdout",
     "output_type": "stream",
     "text": [
      "image 1/1: 1080x810 4 persons, 1 bus\n",
      "Speed: 17.8ms pre-process, 8.3ms inference, 1.2ms NMS per image at shape (1, 3, 640, 480)\n",
      "\n"
     ]
    }
   ],
   "source": [
    "\n",
    "\n",
    "# Model\n",
    "model = torch.hub.load('ultralytics/yolov5', 'yolov5s', pretrained=True)\n",
    "model.eval()\n",
    "model = model.to(device)\n",
    "\n",
    "model.conf = 0.5  # NMS confidence threshold\n",
    "      \n",
    "# Images\n",
    "imgs = 'data/bus.jpg' #['']  # batch of images\n",
    "\n",
    "# Inference\n",
    "results = model(imgs)\n",
    "\n",
    "print(results)\n",
    "results.save()"
   ]
  },
  {
   "cell_type": "code",
   "execution_count": 12,
   "metadata": {},
   "outputs": [
    {
     "data": {
      "text/html": [
       "<div>\n",
       "<style scoped>\n",
       "    .dataframe tbody tr th:only-of-type {\n",
       "        vertical-align: middle;\n",
       "    }\n",
       "\n",
       "    .dataframe tbody tr th {\n",
       "        vertical-align: top;\n",
       "    }\n",
       "\n",
       "    .dataframe thead th {\n",
       "        text-align: right;\n",
       "    }\n",
       "</style>\n",
       "<table border=\"1\" class=\"dataframe\">\n",
       "  <thead>\n",
       "    <tr style=\"text-align: right;\">\n",
       "      <th></th>\n",
       "      <th>xmin</th>\n",
       "      <th>ymin</th>\n",
       "      <th>xmax</th>\n",
       "      <th>ymax</th>\n",
       "      <th>confidence</th>\n",
       "      <th>class</th>\n",
       "      <th>name</th>\n",
       "    </tr>\n",
       "  </thead>\n",
       "  <tbody>\n",
       "    <tr>\n",
       "      <th>0</th>\n",
       "      <td>671.787842</td>\n",
       "      <td>395.372101</td>\n",
       "      <td>810.000000</td>\n",
       "      <td>878.361389</td>\n",
       "      <td>0.896172</td>\n",
       "      <td>0</td>\n",
       "      <td>person</td>\n",
       "    </tr>\n",
       "    <tr>\n",
       "      <th>1</th>\n",
       "      <td>220.657059</td>\n",
       "      <td>408.141083</td>\n",
       "      <td>346.167328</td>\n",
       "      <td>867.381104</td>\n",
       "      <td>0.870248</td>\n",
       "      <td>0</td>\n",
       "      <td>person</td>\n",
       "    </tr>\n",
       "    <tr>\n",
       "      <th>2</th>\n",
       "      <td>49.250805</td>\n",
       "      <td>389.990540</td>\n",
       "      <td>248.078201</td>\n",
       "      <td>912.458740</td>\n",
       "      <td>0.851563</td>\n",
       "      <td>0</td>\n",
       "      <td>person</td>\n",
       "    </tr>\n",
       "  </tbody>\n",
       "</table>\n",
       "</div>"
      ],
      "text/plain": [
       "         xmin        ymin        xmax        ymax  confidence  class    name\n",
       "0  671.787842  395.372101  810.000000  878.361389    0.896172      0  person\n",
       "1  220.657059  408.141083  346.167328  867.381104    0.870248      0  person\n",
       "2   49.250805  389.990540  248.078201  912.458740    0.851563      0  person"
      ]
     },
     "execution_count": 12,
     "metadata": {},
     "output_type": "execute_result"
    }
   ],
   "source": [
    "import cv2\n",
    "imgr = cv2.imread('data/bus.jpg')\n",
    "imger = cv2.cvtColor(imgr, cv2.COLOR_BGR2RGB)\n",
    "\n",
    "model.conf = 0.7  # confidence threshold (0-1)\n",
    "model.iou = 0.3  # NMS IoU threshold (0-1)\n",
    "model.classes = [0]\n",
    "\n",
    "results = model(imger)\n",
    "#frame = results.numpy()\n",
    "#cv2.imwrite('outer.jpg',frame)\n",
    "bbox = results.pandas().xyxy[0]\n",
    "#results.crop()\n",
    "bbox"
   ]
  },
  {
   "cell_type": "code",
   "execution_count": 20,
   "metadata": {},
   "outputs": [
    {
     "data": {
      "text/plain": [
       "True"
      ]
     },
     "execution_count": 20,
     "metadata": {},
     "output_type": "execute_result"
    }
   ],
   "source": [
    "for _,row in bbox.iterrows():\n",
    "    #print(row['xmin'],type(row['xmin']))\n",
    "    cv2.rectangle(imgr,(int(row['xmin']),int(row['ymin'])),(int(row['xmax']),int(row['ymax'])), (255,0,0) , 2  )\n",
    "cv2.imwrite('outer.jpg',imgr)"
   ]
  },
  {
   "cell_type": "code",
   "execution_count": 32,
   "metadata": {},
   "outputs": [
    {
     "name": "stdout",
     "output_type": "stream",
     "text": [
      "50  frame infer time: 0.010748624801635742  pre-process time: 8.58306884765625e-05\n",
      "frame infer+I/o time: 0.01633429527282715\n",
      "100  frame infer time: 0.010743379592895508  pre-process time: 9.226799011230469e-05\n",
      "frame infer+I/o time: 0.0153045654296875\n",
      "150  frame infer time: 0.01058197021484375  pre-process time: 9.512901306152344e-05\n",
      "frame infer+I/o time: 0.015503644943237305\n",
      "200  frame infer time: 0.010657310485839844  pre-process time: 8.869171142578125e-05\n",
      "frame infer+I/o time: 0.016314268112182617\n",
      "250  frame infer time: 0.01061105728149414  pre-process time: 9.369850158691406e-05\n",
      "frame infer+I/o time: 0.015547037124633789\n",
      "300  frame infer time: 0.010802030563354492  pre-process time: 9.775161743164062e-05\n",
      "frame infer+I/o time: 0.016347408294677734\n",
      "350  frame infer time: 0.010786056518554688  pre-process time: 8.749961853027344e-05\n",
      "frame infer+I/o time: 0.015564918518066406\n",
      "400  frame infer time: 0.010770797729492188  pre-process time: 9.34600830078125e-05\n",
      "frame infer+I/o time: 0.01566767692565918\n",
      "total processing time: 6.7679123878479  for frames :  430\n"
     ]
    }
   ],
   "source": [
    "import time\n",
    "\n",
    "model.conf = 0.25  # confidence threshold (0-1)\n",
    "model.iou = 0.3  # NMS IoU threshold (0-1)\n",
    "model.classes = [0]\n",
    "\n",
    "\n",
    "vidcap = cv2.VideoCapture('data/MOT20-01-raw.webm')\n",
    "ret, image_orig = vidcap.read()\n",
    "count = 1\n",
    "width  = int(vidcap.get(3))\n",
    "height = int(vidcap.get(4))\n",
    "#print('image shape:',image.shape)\n",
    "infer_out = cv2.VideoWriter('output.mp4', \n",
    "                         cv2.VideoWriter_fourcc(*'mp4v'),\n",
    "                         int(vidcap.get(cv2.CAP_PROP_FPS)), (width,height))\n",
    "t1 = time.time()\n",
    "while ret:\n",
    "    #cv2.imshow(\"window\",image)\n",
    "    #cv2.waitKey(34)\n",
    "    t2 = time.time()\n",
    "    \n",
    "    imger = cv2.cvtColor(image_orig, cv2.COLOR_BGR2RGB)\n",
    "    t3 = time.time()\n",
    "    results = model(imger)\n",
    "    \n",
    "    bbox = results.pandas().xyxy[0]\n",
    "    \n",
    "    #inference stats\n",
    "    if count%50 == 0:\n",
    "        print(count,' frame infer time:',time.time()-t3,\" pre-process time:\",t3-t2 ) \n",
    "    \n",
    "    # agent bbox and wriye to video\n",
    "    \n",
    "    for _,row in bbox.iterrows():\n",
    "        cv2.rectangle(image_orig,(int(row['xmin']),int(row['ymin'])),(int(row['xmax']),int(row['ymax'])), (255,0,0) , 2  )\n",
    "    infer_out.write(image_orig)\n",
    "    if count%50 == 0:\n",
    "        print('frame infer+I/o time:',time.time()-t2 ) \n",
    "    count += 1\n",
    "    ret, image_orig = vidcap.read()\n",
    "print('total processing time:',time.time()-t1,' for frames : ',count ) \n",
    "infer_out.release()\n",
    "vidcap.release()\n",
    "    \n",
    "#cv2.destroyAllWindows()\n",
    "\n",
    "\n"
   ]
  },
  {
   "cell_type": "code",
   "execution_count": null,
   "metadata": {},
   "outputs": [],
   "source": []
  }
 ],
 "metadata": {
  "kernelspec": {
   "display_name": "Python 2.7.5 64-bit",
   "language": "python",
   "name": "python3"
  },
  "language_info": {
   "codemirror_mode": {
    "name": "ipython",
    "version": 3
   },
   "file_extension": ".py",
   "mimetype": "text/x-python",
   "name": "python",
   "nbconvert_exporter": "python",
   "pygments_lexer": "ipython3",
   "version": "2.7.5"
  },
  "vscode": {
   "interpreter": {
    "hash": "e7370f93d1d0cde622a1f8e1c04877d8463912d04d973331ad4851f04de6915a"
   }
  }
 },
 "nbformat": 4,
 "nbformat_minor": 4
}
