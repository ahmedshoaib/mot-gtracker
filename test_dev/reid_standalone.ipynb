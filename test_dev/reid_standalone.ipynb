{
 "cells": [
  {
   "cell_type": "code",
   "execution_count": 1,
   "id": "d5ec86a4",
   "metadata": {},
   "outputs": [
    {
     "name": "stdout",
     "output_type": "stream",
     "text": [
      "The current device is cuda:0\n"
     ]
    }
   ],
   "source": [
    "import torch\n",
    "device = torch.device(\"cuda:0\" if torch.cuda.is_available() else \"cpu\")\n",
    "print(f\"The current device is {device}\")\n",
    "#model = torch.load('lup_moco_r101.pth')"
   ]
  },
  {
   "cell_type": "code",
   "execution_count": null,
   "id": "e2f2825c",
   "metadata": {},
   "outputs": [],
   "source": [
    "#https://kaiyangzhou.github.io/deep-person-reid/user_guide\n",
    "#https://kaiyangzhou.github.io/deep-person-reid/MODEL_ZOO"
   ]
  },
  {
   "cell_type": "code",
   "execution_count": 2,
   "id": "ca53c469",
   "metadata": {},
   "outputs": [],
   "source": [
    "import torchreid"
   ]
  },
  {
   "cell_type": "code",
   "execution_count": 5,
   "id": "3c6f2099",
   "metadata": {},
   "outputs": [
    {
     "name": "stdout",
     "output_type": "stream",
     "text": [
      "Model: osnet_ibn_x1_0\n",
      "- params: 2,194,640\n",
      "- flops: 978,878,352\n",
      "Successfully loaded pretrained weights from \"osnet_ibn_ms_d_c.pth.tar\"\n",
      "** The following layers are discarded due to unmatched keys or layer size: ['classifier.weight', 'classifier.bias']\n",
      "tensor([[0.7859, 0.0000, 0.5113,  ..., 0.0000, 1.3030, 0.2184],\n",
      "        [0.0000, 3.5776, 0.0000,  ..., 1.8126, 3.6851, 0.0000],\n",
      "        [0.0000, 3.3216, 0.0000,  ..., 2.2525, 3.6408, 0.0000]],\n",
      "       device='cuda:0')\n"
     ]
    }
   ],
   "source": [
    "from torchreid.utils import FeatureExtractor\n",
    "\n",
    "extractor = FeatureExtractor(\n",
    "    model_name='osnet_ibn_x1_0',\n",
    "    model_path='osnet_ibn_ms_d_c.pth.tar',\n",
    "    device='cuda'\n",
    ")\n",
    "\n",
    "image_list = [\n",
    "    'crop_1000001.jpg',\n",
    "    'crop_1000002.jpg',\n",
    "    'crop_1000003.jpg'\n",
    "]\n",
    "\n",
    "features = extractor(image_list)\n",
    "print(features)"
   ]
  },
  {
   "cell_type": "code",
   "execution_count": 7,
   "id": "929f9722",
   "metadata": {},
   "outputs": [
    {
     "name": "stdout",
     "output_type": "stream",
     "text": [
      "0.4258461594581604 0.4340972304344177 0.9779007434844971 0.4258461594581604\n"
     ]
    }
   ],
   "source": [
    "from scipy import spatial\n",
    "\n",
    "dataSetI = features[0].cpu().numpy()\n",
    "dataSetII = features[1].cpu().numpy()\n",
    "dataSetIII = features[2].cpu().numpy()\n",
    "result12 = 1 - spatial.distance.cosine(dataSetI, dataSetII)\n",
    "result13 = 1 - spatial.distance.cosine(dataSetI, dataSetIII)\n",
    "result23 = 1 - spatial.distance.cosine(dataSetII, dataSetIII)\n",
    "result21 = 1 - spatial.distance.cosine(dataSetII, dataSetI)\n",
    "\n",
    "print(result12,result13,result23,result21)"
   ]
  },
  {
   "cell_type": "code",
   "execution_count": null,
   "id": "2fcca2ab",
   "metadata": {},
   "outputs": [],
   "source": []
  }
 ],
 "metadata": {
  "kernelspec": {
   "display_name": "Python 3",
   "language": "python",
   "name": "python3"
  },
  "language_info": {
   "codemirror_mode": {
    "name": "ipython",
    "version": 3
   },
   "file_extension": ".py",
   "mimetype": "text/x-python",
   "name": "python",
   "nbconvert_exporter": "python",
   "pygments_lexer": "ipython3",
   "version": "3.6.12"
  }
 },
 "nbformat": 4,
 "nbformat_minor": 5
}
