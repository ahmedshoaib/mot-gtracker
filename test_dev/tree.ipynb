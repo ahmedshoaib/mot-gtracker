{
 "cells": [
  {
   "cell_type": "code",
   "execution_count": 2,
   "id": "2e6d56c4",
   "metadata": {},
   "outputs": [],
   "source": [
    "from anytree import NodeMixin, RenderTree\n",
    "\n",
    "class GraphNode(NodeMixin):  # Add Node feature\n",
    "    def __init__(self, name, x1,x2,x3,y1,y2,y3, one=None, two=None,three=None,four=None):\n",
    "        super(GraphNode, self).__init__()\n",
    "        self.name = name\n",
    "        self.x1 = x1\n",
    "        self.x2 = x2\n",
    "        self.x3 = x3\n",
    "        self.y1 = y1\n",
    "        self.y2 = y2\n",
    "        self.y3 = y3\n",
    "        \n",
    "        self.one = one\n",
    "        self.two = two\n",
    "        self.three = three\n",
    "        self.four = four\n",
    "        \n",
    "\n",
    "\n",
    "    \n",
    "        \n",
    "        \n",
    "\n",
    "\n",
    "\n",
    "my0 = GraphNode('root',  0, 960,1920, 0, 540,1080)\n",
    "\n",
    "\n"
   ]
  },
  {
   "cell_type": "code",
   "execution_count": 17,
   "id": "ba6559fc",
   "metadata": {},
   "outputs": [],
   "source": [
    "from anytree import NodeMixin, RenderTree\n",
    "\n",
    "class GraphNode(NodeMixin):  # Add Node feature\n",
    "    def __init__(self, name, x1,x2,x3,y1,y2,y3, parent=None, children=None):\n",
    "        super(GraphNode, self).__init__()\n",
    "        self.name = name\n",
    "        self.x1 = x1\n",
    "        self.x2 = x2\n",
    "        self.x3 = x3\n",
    "        self.y1 = y1\n",
    "        self.y2 = y2\n",
    "        self.y3 = y3\n",
    "        \n",
    "        self.parent = parent\n",
    "        if children:\n",
    "            self.children = children\n",
    "        \n",
    "\n",
    "\n",
    "    \n",
    "        \n",
    "        \n",
    "\n",
    "\n",
    "\n",
    "my0 = GraphNode('root',  0, 960,1920, 0, 540,1080)\n",
    "\n",
    "\n"
   ]
  },
  {
   "cell_type": "code",
   "execution_count": 44,
   "id": "0f58ccf0",
   "metadata": {},
   "outputs": [],
   "source": [
    "from anytree.exporter import DotExporter\n",
    "\n",
    "DotExporter(my0).to_picture(\"udo.png\")\n"
   ]
  },
  {
   "cell_type": "code",
   "execution_count": 20,
   "id": "d7e17db7",
   "metadata": {},
   "outputs": [],
   "source": [
    "my0.children=[ GraphNode('rootp1',0,480,960,0,270,540), GraphNode('rootp2',961,1200,1920,541,750,1080)]"
   ]
  },
  {
   "cell_type": "code",
   "execution_count": 12,
   "id": "0ee89fb5",
   "metadata": {},
   "outputs": [
    {
     "data": {
      "text/plain": [
       "'rootp1'"
      ]
     },
     "execution_count": 12,
     "metadata": {},
     "output_type": "execute_result"
    }
   ],
   "source": [
    "my0.one.name"
   ]
  },
  {
   "cell_type": "code",
   "execution_count": 13,
   "id": "50f5a144",
   "metadata": {},
   "outputs": [
    {
     "data": {
      "text/plain": [
       "'rootp2'"
      ]
     },
     "execution_count": 13,
     "metadata": {},
     "output_type": "execute_result"
    }
   ],
   "source": [
    "my0.two.name"
   ]
  },
  {
   "cell_type": "code",
   "execution_count": 35,
   "id": "d848a357",
   "metadata": {},
   "outputs": [],
   "source": [
    "from anytree import Node, RenderTree,search\n",
    "r = RenderTree(my0)"
   ]
  },
  {
   "cell_type": "code",
   "execution_count": 27,
   "id": "07e62c0d",
   "metadata": {},
   "outputs": [
    {
     "data": {
      "text/plain": [
       "'rootp2'"
      ]
     },
     "execution_count": 27,
     "metadata": {},
     "output_type": "execute_result"
    }
   ],
   "source": [
    "search.findall(my0, filter_=lambda node: node.x1 > 100)[0].name"
   ]
  },
  {
   "cell_type": "code",
   "execution_count": 45,
   "id": "cc06ecd5",
   "metadata": {},
   "outputs": [],
   "source": [
    "pt = (1500,900)"
   ]
  },
  {
   "cell_type": "code",
   "execution_count": 46,
   "id": "5680addb",
   "metadata": {},
   "outputs": [
    {
     "data": {
      "text/plain": [
       "'rootp3p2'"
      ]
     },
     "execution_count": 46,
     "metadata": {},
     "output_type": "execute_result"
    }
   ],
   "source": [
    "node = search.findall(my0, filter_=lambda node: ((node.x1 < pt[0] < node.x3) and (node.y1 < pt[1] < node.y3)))[-1]\n",
    "node.name"
   ]
  },
  {
   "cell_type": "code",
   "execution_count": 42,
   "id": "5c5f45da",
   "metadata": {},
   "outputs": [
    {
     "data": {
      "text/plain": [
       "<__main__.GraphNode at 0x7ff7a9447a90>"
      ]
     },
     "execution_count": 42,
     "metadata": {},
     "output_type": "execute_result"
    }
   ],
   "source": [
    "GraphNode('rootp3p2',1200,1600,1920,0,500,1080,parent = node)"
   ]
  },
  {
   "cell_type": "code",
   "execution_count": 36,
   "id": "2d3cdc28",
   "metadata": {},
   "outputs": [
    {
     "data": {
      "text/plain": [
       "<__main__.GraphNode at 0x7ff7a99c55f8>"
      ]
     },
     "execution_count": 36,
     "metadata": {},
     "output_type": "execute_result"
    }
   ],
   "source": [
    "GraphNode('rootp3',961,1200,1920,0,500,1080,parent = my0)"
   ]
  },
  {
   "cell_type": "code",
   "execution_count": 40,
   "id": "2f9731d4",
   "metadata": {},
   "outputs": [
    {
     "data": {
      "text/plain": [
       "(<__main__.GraphNode at 0x7ff7a9447da0>,\n",
       " <__main__.GraphNode at 0x7ff7a94476a0>,\n",
       " <__main__.GraphNode at 0x7ff7a99c55f8>)"
      ]
     },
     "execution_count": 40,
     "metadata": {},
     "output_type": "execute_result"
    }
   ],
   "source": []
  },
  {
   "cell_type": "code",
   "execution_count": 48,
   "id": "e67a6238",
   "metadata": {},
   "outputs": [],
   "source": [
    "import networkx as nx\n",
    "graph_node_name = 'root'\n",
    "\n",
    "G = nx.DiGraph()\n",
    "G.add_node(graph_node_name+'p1')\n",
    "G.add_node(graph_node_name+'p2')\n",
    "G.add_node(graph_node_name+'p3')\n",
    "G.add_node(graph_node_name+'p4')\n",
    "\n"
   ]
  },
  {
   "cell_type": "code",
   "execution_count": 84,
   "id": "f747b25d",
   "metadata": {},
   "outputs": [
    {
     "data": {
      "image/png": "[encoded data removed]",
      "text/plain": [
       "<Figure size 432x288 with 1 Axes>"
      ]
     },
     "metadata": {},
     "output_type": "display_data"
    }
   ],
   "source": [
    "import matplotlib.pyplot as plt\n",
    "subax1 = plt.subplot(111)\n",
    "\n",
    "nx.draw(G, with_labels=True)"
   ]
  },
  {
   "cell_type": "code",
   "execution_count": 64,
   "id": "d14b4cae",
   "metadata": {},
   "outputs": [],
   "source": [
    "G.add_edges_from([('rootp1', 'rootp2'), ('rootp1','rootp1')])\n"
   ]
  },
  {
   "cell_type": "code",
   "execution_count": 68,
   "id": "d572e194",
   "metadata": {},
   "outputs": [],
   "source": [
    "lister = [i for i in G.nodes]"
   ]
  },
  {
   "cell_type": "code",
   "execution_count": 66,
   "id": "09b1405b",
   "metadata": {},
   "outputs": [
    {
     "data": {
      "text/plain": [
       "OutEdgeView([('rootp1', 'rootp2'), ('rootp1', 'rootp1')])"
      ]
     },
     "execution_count": 66,
     "metadata": {},
     "output_type": "execute_result"
    }
   ],
   "source": [
    "G.edges"
   ]
  },
  {
   "cell_type": "code",
   "execution_count": 73,
   "id": "d30501ce",
   "metadata": {},
   "outputs": [],
   "source": [
    "import itertools\n",
    "\n",
    "my_list = lister\n",
    "edge_list = [ (pair[0],pair[1],{'weight':0.25}) for pair in itertools.product(my_list, repeat=2)]"
   ]
  },
  {
   "cell_type": "code",
   "execution_count": 74,
   "id": "35e0d9bd",
   "metadata": {},
   "outputs": [
    {
     "data": {
      "text/plain": [
       "[('rootp1', 'rootp1', {'weight': 0.25}),\n",
       " ('rootp1', 'rootp2', {'weight': 0.25}),\n",
       " ('rootp1', 'rootp3', {'weight': 0.25}),\n",
       " ('rootp1', 'rootp4', {'weight': 0.25}),\n",
       " ('rootp2', 'rootp1', {'weight': 0.25}),\n",
       " ('rootp2', 'rootp2', {'weight': 0.25}),\n",
       " ('rootp2', 'rootp3', {'weight': 0.25}),\n",
       " ('rootp2', 'rootp4', {'weight': 0.25}),\n",
       " ('rootp3', 'rootp1', {'weight': 0.25}),\n",
       " ('rootp3', 'rootp2', {'weight': 0.25}),\n",
       " ('rootp3', 'rootp3', {'weight': 0.25}),\n",
       " ('rootp3', 'rootp4', {'weight': 0.25}),\n",
       " ('rootp4', 'rootp1', {'weight': 0.25}),\n",
       " ('rootp4', 'rootp2', {'weight': 0.25}),\n",
       " ('rootp4', 'rootp3', {'weight': 0.25}),\n",
       " ('rootp4', 'rootp4', {'weight': 0.25})]"
      ]
     },
     "execution_count": 74,
     "metadata": {},
     "output_type": "execute_result"
    }
   ],
   "source": [
    "edge_list"
   ]
  },
  {
   "cell_type": "code",
   "execution_count": 75,
   "id": "b0becaa2",
   "metadata": {},
   "outputs": [],
   "source": [
    "G.add_edges_from(edge_list)"
   ]
  },
  {
   "cell_type": "code",
   "execution_count": 81,
   "id": "50e56020",
   "metadata": {},
   "outputs": [
    {
     "data": {
      "text/plain": [
       "array([2.5, 2.5, 2.5, 2.5])"
      ]
     },
     "execution_count": 81,
     "metadata": {},
     "output_type": "execute_result"
    }
   ],
   "source": [
    "import numpy as np\n",
    "np.mean( np.array([[1,2,3,4], [4,3,2,1] ]), axis=0 )"
   ]
  },
  {
   "cell_type": "code",
   "execution_count": 83,
   "id": "f940ee16",
   "metadata": {},
   "outputs": [
    {
     "data": {
      "text/plain": [
       "array([1.6, 2.2, 2.8, 3.4])"
      ]
     },
     "execution_count": 83,
     "metadata": {},
     "output_type": "execute_result"
    }
   ],
   "source": [
    "np.average( np.array([[1,2,3,4], [4,3,2,1] ]), axis=0, weights=[0.8, 0.2])"
   ]
  },
  {
   "cell_type": "code",
   "execution_count": 91,
   "id": "9aa8183d",
   "metadata": {},
   "outputs": [
    {
     "data": {
      "text/plain": [
       "OutEdgeDataView([('rootp1', 'rootp2', 1.25), ('rootp1', 'rootp1', 3.25), ('rootp1', 'rootp3', 0.25), ('rootp1', 'rootp4', 0.25), ('rootp2', 'rootp1', 0.25), ('rootp2', 'rootp2', 0.25), ('rootp2', 'rootp3', 0.25), ('rootp2', 'rootp4', 0.25), ('rootp3', 'rootp1', 0.25), ('rootp3', 'rootp2', 0.25), ('rootp3', 'rootp3', 0.25), ('rootp3', 'rootp4', 0.25), ('rootp4', 'rootp1', 0.25), ('rootp4', 'rootp2', 0.25), ('rootp4', 'rootp3', 0.25), ('rootp4', 'rootp4', 0.25)])"
      ]
     },
     "execution_count": 91,
     "metadata": {},
     "output_type": "execute_result"
    }
   ],
   "source": [
    "G.edges.data('weight')"
   ]
  },
  {
   "cell_type": "code",
   "execution_count": 90,
   "id": "225b14c8",
   "metadata": {},
   "outputs": [],
   "source": [
    "G.edges['rootp1','rootp2']['weight'] += 1"
   ]
  },
  {
   "cell_type": "code",
   "execution_count": 92,
   "id": "04873419",
   "metadata": {},
   "outputs": [
    {
     "data": {
      "text/plain": [
       "InEdgeDataView([('rootp1', 'rootp1'), ('rootp2', 'rootp1'), ('rootp3', 'rootp1'), ('rootp4', 'rootp1')])"
      ]
     },
     "execution_count": 92,
     "metadata": {},
     "output_type": "execute_result"
    }
   ],
   "source": [
    "G.in_edges('rootp1')"
   ]
  },
  {
   "cell_type": "code",
   "execution_count": 118,
   "id": "c7ea5c77",
   "metadata": {},
   "outputs": [
    {
     "data": {
      "text/plain": [
       "[('rootp1', 3.25), ('rootp2', 0.25), ('rootp3', 0.25), ('rootp4', 0.25)]"
      ]
     },
     "execution_count": 118,
     "metadata": {},
     "output_type": "execute_result"
    }
   ],
   "source": [
    "[(edge[0],G.edges[edge[0],edge[1]]['weight']) for edge in G.in_edges('rootp1')]"
   ]
  },
  {
   "cell_type": "code",
   "execution_count": 111,
   "id": "df685131",
   "metadata": {},
   "outputs": [],
   "source": [
    "self_weight = G.edges['rootp1','rootp1']['weight']"
   ]
  },
  {
   "cell_type": "code",
   "execution_count": 110,
   "id": "87cdac2c",
   "metadata": {},
   "outputs": [
    {
     "data": {
      "text/plain": [
       "4.0"
      ]
     },
     "execution_count": 110,
     "metadata": {},
     "output_type": "execute_result"
    }
   ],
   "source": [
    "G.in_degree('rootp1',weight = 'weight')"
   ]
  },
  {
   "cell_type": "code",
   "execution_count": 116,
   "id": "a16ab978",
   "metadata": {},
   "outputs": [],
   "source": [
    "if self_weight*2 > G.in_degree('rootp1',weight = 'weight'):\n",
    "    graph_node_name = 'rootp1'\n",
    "\n",
    "    pG = nx.DiGraph()\n",
    "    pG.add_node(graph_node_name+'p1')\n",
    "    pG.add_node(graph_node_name+'p2')\n",
    "    pG.add_node(graph_node_name+'p3')\n",
    "    pG.add_node(graph_node_name+'p4')\n",
    "    \n",
    "    lister = [i for i in pG.nodes]\n",
    "    my_list = lister\n",
    "    edge_list = [ (pair[0],pair[1],{'weight':self_weight/16}) for pair in itertools.product(my_list, repeat=2)]\n",
    "    pG.add_edges_from(edge_list)\n",
    "    "
   ]
  },
  {
   "cell_type": "code",
   "execution_count": 120,
   "id": "67e3016e",
   "metadata": {},
   "outputs": [
    {
     "data": {
      "image/png": "[encoded data removed]",
      "text/plain": [
       "<Figure size 432x288 with 1 Axes>"
      ]
     },
     "metadata": {},
     "output_type": "display_data"
    }
   ],
   "source": [
    "import matplotlib.pyplot as plt\n",
    "subax1 = plt.subplot(111)\n",
    "\n",
    "nx.draw(G, with_labels=True)"
   ]
  },
  {
   "cell_type": "code",
   "execution_count": 115,
   "id": "38dfebe9",
   "metadata": {},
   "outputs": [
    {
     "data": {
      "text/plain": [
       "['rootp1p1', 'rootp1p2', 'rootp1p3', 'rootp1p4']"
      ]
     },
     "execution_count": 115,
     "metadata": {},
     "output_type": "execute_result"
    }
   ],
   "source": [
    "my_list"
   ]
  },
  {
   "cell_type": "code",
   "execution_count": 119,
   "id": "17e4aee3",
   "metadata": {},
   "outputs": [],
   "source": [
    "G.update(pG)"
   ]
  },
  {
   "cell_type": "code",
   "execution_count": null,
   "id": "9375e5a1",
   "metadata": {},
   "outputs": [],
   "source": []
  }
 ],
 "metadata": {
  "kernelspec": {
   "display_name": "Python 3.6.12 ('venv')",
   "language": "python",
   "name": "python3"
  },
  "language_info": {
   "codemirror_mode": {
    "name": "ipython",
    "version": 3
   },
   "file_extension": ".py",
   "mimetype": "text/x-python",
   "name": "python",
   "nbconvert_exporter": "python",
   "pygments_lexer": "ipython3",
   "version": "3.6.12"
  },
  "vscode": {
   "interpreter": {
    "hash": "094238f3369c7e9970b6eb9c382277c4b9ef267e0acb92ede3a9f2a0fe1c8f99"
   }
  }
 },
 "nbformat": 4,
 "nbformat_minor": 5
}
